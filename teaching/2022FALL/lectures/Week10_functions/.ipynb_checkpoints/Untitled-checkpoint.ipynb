{
 "cells": [
  {
   "cell_type": "code",
   "execution_count": 1,
   "id": "68e46d82-1b40-4817-b855-ef6eb77e3c2d",
   "metadata": {},
   "outputs": [
    {
     "name": "stdout",
     "output_type": "stream",
     "text": [
      "Hello\n"
     ]
    }
   ],
   "source": [
    "print(\"Hello\")"
   ]
  },
  {
   "cell_type": "code",
   "execution_count": 1,
   "id": "5a4db8d1-7b6a-48fa-802a-0ca8e63818a9",
   "metadata": {},
   "outputs": [
    {
     "name": "stdin",
     "output_type": "stream",
     "text": [
      "what? fdfd\n"
     ]
    },
    {
     "data": {
      "text/plain": [
       "'fdfd'"
      ]
     },
     "execution_count": 1,
     "metadata": {},
     "output_type": "execute_result"
    }
   ],
   "source": [
    "input(\"what?\")"
   ]
  },
  {
   "cell_type": "code",
   "execution_count": 3,
   "id": "9a7bde52-84c1-4ecf-8598-5c45e15bad59",
   "metadata": {},
   "outputs": [
    {
     "name": "stdin",
     "output_type": "stream",
     "text": [
      "What is your name? Lucas\n"
     ]
    },
    {
     "name": "stdout",
     "output_type": "stream",
     "text": [
      "Hello Lucas\n"
     ]
    }
   ],
   "source": [
    "username = input(\"What is your name?\")\n",
    "print(\"Hello \" + username)"
   ]
  },
  {
   "cell_type": "code",
   "execution_count": 5,
   "id": "c9c8d0b4-b568-4da7-9b92-022f1ca006f6",
   "metadata": {},
   "outputs": [
    {
     "name": "stdin",
     "output_type": "stream",
     "text": [
      "First number: 1\n",
      "Second number: 2\n"
     ]
    },
    {
     "name": "stdout",
     "output_type": "stream",
     "text": [
      "3\n"
     ]
    }
   ],
   "source": [
    "num1 = input(\"First number:\")\n",
    "num2 = input(\"Second number:\")\n",
    "print(int(num1) + int(num2))\n"
   ]
  },
  {
   "cell_type": "code",
   "execution_count": 9,
   "id": "eadc1603-56f2-4102-a7af-0b2cef65159e",
   "metadata": {},
   "outputs": [
    {
     "name": "stdout",
     "output_type": "stream",
     "text": [
      "1 plus 2 is \n"
     ]
    }
   ],
   "source": [
    "print(f\"{num1} plus {num2} is \")"
   ]
  },
  {
   "cell_type": "code",
   "execution_count": 10,
   "id": "96012037-adb6-4c00-ad6e-a647303274df",
   "metadata": {},
   "outputs": [
    {
     "name": "stdin",
     "output_type": "stream",
     "text": [
      "First number: 1\n",
      "Second number: 2\n"
     ]
    },
    {
     "name": "stdout",
     "output_type": "stream",
     "text": [
      "3\n",
      "1 plus 2 is 3\n"
     ]
    }
   ],
   "source": [
    "num1 = input(\"First number:\")\n",
    "num2 = input(\"Second number:\")\n",
    "res = int(num1) + int(num2)\n",
    "print(res)\n",
    "print(f\"{num1} plus {num2} is {res}\")\n"
   ]
  },
  {
   "cell_type": "code",
   "execution_count": 11,
   "id": "232729f8-472d-4df1-868f-3a1384104d83",
   "metadata": {},
   "outputs": [
    {
     "data": {
      "text/plain": [
       "'error: disk failure'"
      ]
     },
     "execution_count": 11,
     "metadata": {},
     "output_type": "execute_result"
    }
   ],
   "source": [
    "msg = 'disk failure'\n",
    "'error: %s' % msg"
   ]
  },
  {
   "cell_type": "code",
   "execution_count": 31,
   "id": "fa691a96-be63-4df5-bd1f-01876fed8456",
   "metadata": {},
   "outputs": [
    {
     "data": {
      "text/plain": [
       "'result: 12'"
      ]
     },
     "execution_count": 31,
     "metadata": {},
     "output_type": "execute_result"
    }
   ],
   "source": [
    "width = 10\n",
    "precision = 4\n",
    "value = '12.34567'\n",
    "f'result: {value:.2}'\n"
   ]
  },
  {
   "cell_type": "code",
   "execution_count": 15,
   "id": "9661e9f3-1cde-4e2a-b613-c915e0da4690",
   "metadata": {},
   "outputs": [
    {
     "data": {
      "text/plain": [
       "'result: 12.3      '"
      ]
     },
     "execution_count": 15,
     "metadata": {},
     "output_type": "execute_result"
    }
   ],
   "source": [
    "f'result: {value:{width}.{precision}}'\n"
   ]
  },
  {
   "cell_type": "code",
   "execution_count": 29,
   "id": "f4b0eecb-1f83-488a-9f12-17914106f894",
   "metadata": {},
   "outputs": [
    {
     "data": {
      "text/plain": [
       "'12.35'"
      ]
     },
     "execution_count": 29,
     "metadata": {},
     "output_type": "execute_result"
    }
   ],
   "source": [
    "\"{:.2f}\".format(float(value))"
   ]
  },
  {
   "cell_type": "code",
   "execution_count": 32,
   "id": "dfeb28ab-7745-4a77-a7ab-4b4c56686168",
   "metadata": {},
   "outputs": [],
   "source": [
    "import math"
   ]
  },
  {
   "cell_type": "code",
   "execution_count": 35,
   "id": "a2dee777-162d-46a2-ab34-43f9a9db0084",
   "metadata": {},
   "outputs": [],
   "source": [
    "a = math.pi"
   ]
  },
  {
   "cell_type": "code",
   "execution_count": 36,
   "id": "ada9d02a-4c27-4ecd-845e-9914d8376ea1",
   "metadata": {},
   "outputs": [
    {
     "data": {
      "text/plain": [
       "'  3.141593'"
      ]
     },
     "execution_count": 36,
     "metadata": {},
     "output_type": "execute_result"
    }
   ],
   "source": [
    "\"%10f\" % a"
   ]
  },
  {
   "cell_type": "code",
   "execution_count": 1,
   "id": "f334689f-7280-4dcd-acc9-510de5e52880",
   "metadata": {},
   "outputs": [
    {
     "data": {
      "text/plain": [
       "3"
      ]
     },
     "execution_count": 1,
     "metadata": {},
     "output_type": "execute_result"
    }
   ],
   "source": [
    "names = [\"Alice\", \"Beth\", \"Carl\"]\n",
    "len(names)\n",
    "\n"
   ]
  },
  {
   "cell_type": "code",
   "execution_count": 5,
   "id": "b6b83ba4-be81-446a-bd1d-1026364fc065",
   "metadata": {},
   "outputs": [
    {
     "data": {
      "text/plain": [
       "'Alice'"
      ]
     },
     "execution_count": 5,
     "metadata": {},
     "output_type": "execute_result"
    }
   ],
   "source": [
    "names[0]\n"
   ]
  },
  {
   "cell_type": "code",
   "execution_count": 6,
   "id": "126a0980-ba68-413d-b83a-007ac0f9c121",
   "metadata": {},
   "outputs": [
    {
     "data": {
      "text/plain": [
       "'Carl'"
      ]
     },
     "execution_count": 6,
     "metadata": {},
     "output_type": "execute_result"
    }
   ],
   "source": [
    "names[-1]"
   ]
  },
  {
   "cell_type": "code",
   "execution_count": 8,
   "id": "d3db5b77-1a89-488b-93c5-aaaa36c47eb8",
   "metadata": {},
   "outputs": [
    {
     "name": "stdin",
     "output_type": "stream",
     "text": [
      "What is your name?  Smith\n"
     ]
    },
    {
     "name": "stdout",
     "output_type": "stream",
     "text": [
      "Hello, Mr. Smith\n"
     ]
    }
   ],
   "source": [
    "name = input(\"What is your name? \")\n",
    "if name.endswith(\"Smith\"):\n",
    "    print(\"Hello, Mr. Smith\")\n"
   ]
  },
  {
   "cell_type": "code",
   "execution_count": 11,
   "id": "e0123f22-4165-42eb-810b-54f6cde16eb8",
   "metadata": {},
   "outputs": [
    {
     "name": "stdin",
     "output_type": "stream",
     "text": [
      "What is your name?  smith\n"
     ]
    },
    {
     "name": "stdout",
     "output_type": "stream",
     "text": [
      "Hello, Stranger\n"
     ]
    }
   ],
   "source": [
    "name = input(\"What is your name? \")\n",
    "if name.endswith(\"Smith\"):\n",
    "    if name.startswith(\"Mr.\"):\n",
    "        print(\"Hello, Mr. Smith\")\n",
    "    elif name.startswith(\"Mrs.\"):\n",
    "        print(\"Hello, Mrs. Smith\")\n",
    "    else:\n",
    "        print(\"Hello, Smith\")\n",
    "else:\n",
    "    print(\"Hello, Stranger\")\n"
   ]
  },
  {
   "cell_type": "code",
   "execution_count": 3,
   "id": "3d58e748-3cf4-4068-a495-6f60355369e2",
   "metadata": {},
   "outputs": [
    {
     "ename": "IndentationError",
     "evalue": "unexpected indent (1119805574.py, line 3)",
     "output_type": "error",
     "traceback": [
      "\u001b[0;36m  File \u001b[0;32m\"/var/folders/02/8r8_tm7x2vgch4z0jq2_3v6009311b/T/ipykernel_90130/1119805574.py\"\u001b[0;36m, line \u001b[0;32m3\u001b[0m\n\u001b[0;31m    case 400:\u001b[0m\n\u001b[0m    ^\u001b[0m\n\u001b[0;31mIndentationError\u001b[0m\u001b[0;31m:\u001b[0m unexpected indent\n"
     ]
    }
   ],
   "source": [
    "def http_error(status):\n",
    "    match status:\n",
    "        case 400:\n",
    "            print(\"Bad request\")\n",
    "        case 404:\n",
    "            print(\"Not found\")\n",
    "        case 418:\n",
    "            print(\"I'm a teapot\")\n",
    "        case _:\n",
    "            print(\"Something's wrong with the internet\")\n"
   ]
  },
  {
   "cell_type": "code",
   "execution_count": 6,
   "id": "645e3fce-c3c8-47e9-ad1b-7193e0e190b5",
   "metadata": {},
   "outputs": [
    {
     "ename": "SyntaxError",
     "evalue": "invalid syntax (2058398996.py, line 2)",
     "output_type": "error",
     "traceback": [
      "\u001b[0;36m  File \u001b[0;32m\"/var/folders/02/8r8_tm7x2vgch4z0jq2_3v6009311b/T/ipykernel_90130/2058398996.py\"\u001b[0;36m, line \u001b[0;32m2\u001b[0m\n\u001b[0;31m    match status:\u001b[0m\n\u001b[0m          ^\u001b[0m\n\u001b[0;31mSyntaxError\u001b[0m\u001b[0;31m:\u001b[0m invalid syntax\n"
     ]
    }
   ],
   "source": [
    "status = 400\n",
    "match status:\n",
    "    case 400:\n",
    "        print(\"Bad request\")\n",
    "    case _:\n",
    "        pirnt(\"Something's wrong with the internet\")\n"
   ]
  },
  {
   "cell_type": "code",
   "execution_count": 7,
   "id": "7a1677a8-aa3b-4ca2-b936-a998e25b96a9",
   "metadata": {},
   "outputs": [
    {
     "ename": "FileNotFoundError",
     "evalue": "[Errno 2] No such file or directory: '~/Desktop/my_file.txt'",
     "output_type": "error",
     "traceback": [
      "\u001b[0;31m---------------------------------------------------------------------------\u001b[0m",
      "\u001b[0;31mFileNotFoundError\u001b[0m                         Traceback (most recent call last)",
      "\u001b[0;32m/var/folders/02/8r8_tm7x2vgch4z0jq2_3v6009311b/T/ipykernel_90130/1890505580.py\u001b[0m in \u001b[0;36m<module>\u001b[0;34m\u001b[0m\n\u001b[0;32m----> 1\u001b[0;31m \u001b[0mfile\u001b[0m \u001b[0;34m=\u001b[0m \u001b[0mopen\u001b[0m\u001b[0;34m(\u001b[0m\u001b[0;34m\"~/Desktop/my_file.txt\"\u001b[0m\u001b[0;34m)\u001b[0m\u001b[0;34m\u001b[0m\u001b[0;34m\u001b[0m\u001b[0m\n\u001b[0m\u001b[1;32m      2\u001b[0m \u001b[0mcontents\u001b[0m \u001b[0;34m=\u001b[0m \u001b[0mfile\u001b[0m\u001b[0;34m.\u001b[0m\u001b[0mread\u001b[0m\u001b[0;34m(\u001b[0m\u001b[0;34m)\u001b[0m\u001b[0;34m\u001b[0m\u001b[0;34m\u001b[0m\u001b[0m\n\u001b[1;32m      3\u001b[0m \u001b[0mprint\u001b[0m\u001b[0;34m(\u001b[0m\u001b[0mcontents\u001b[0m\u001b[0;34m)\u001b[0m\u001b[0;34m\u001b[0m\u001b[0;34m\u001b[0m\u001b[0m\n\u001b[1;32m      4\u001b[0m \u001b[0mfile\u001b[0m\u001b[0;34m.\u001b[0m\u001b[0mclose\u001b[0m\u001b[0;34m(\u001b[0m\u001b[0;34m)\u001b[0m\u001b[0;34m\u001b[0m\u001b[0;34m\u001b[0m\u001b[0m\n",
      "\u001b[0;31mFileNotFoundError\u001b[0m: [Errno 2] No such file or directory: '~/Desktop/my_file.txt'"
     ]
    }
   ],
   "source": [
    "file = open(\"my_file.txt\")\n",
    "contents = file.read()\n",
    "print(contents)\n",
    "file.close()\n"
   ]
  },
  {
   "cell_type": "markdown",
   "id": "e5c44014-8c25-49a9-893a-16adfa007556",
   "metadata": {},
   "source": [
    "## how to remove extra spaces, and keep only one of them"
   ]
  },
  {
   "cell_type": "code",
   "execution_count": 1,
   "id": "004db9bf-8ba9-4e30-a533-a64af18024dc",
   "metadata": {},
   "outputs": [
    {
     "ename": "NameError",
     "evalue": "name 're' is not defined",
     "output_type": "error",
     "traceback": [
      "\u001b[0;31m---------------------------------------------------------------------------\u001b[0m",
      "\u001b[0;31mNameError\u001b[0m                                 Traceback (most recent call last)",
      "\u001b[0;32m/var/folders/02/8r8_tm7x2vgch4z0jq2_3v6009311b/T/ipykernel_55796/246114924.py\u001b[0m in \u001b[0;36m<module>\u001b[0;34m\u001b[0m\n\u001b[0;32m----> 1\u001b[0;31m \u001b[0mre\u001b[0m\u001b[0;34m.\u001b[0m\u001b[0msub\u001b[0m\u001b[0;34m\u001b[0m\u001b[0;34m\u001b[0m\u001b[0m\n\u001b[0m",
      "\u001b[0;31mNameError\u001b[0m: name 're' is not defined"
     ]
    }
   ],
   "source": [
    "re.sub"
   ]
  },
  {
   "cell_type": "code",
   "execution_count": null,
   "id": "4ec07c34-7691-40d5-9251-cb2584e8e9a4",
   "metadata": {},
   "outputs": [],
   "source": []
  }
 ],
 "metadata": {
  "kernelspec": {
   "display_name": "Python 3 (ipykernel)",
   "language": "python",
   "name": "python3"
  },
  "language_info": {
   "codemirror_mode": {
    "name": "ipython",
    "version": 3
   },
   "file_extension": ".py",
   "mimetype": "text/x-python",
   "name": "python",
   "nbconvert_exporter": "python",
   "pygments_lexer": "ipython3",
   "version": "3.9.7"
  }
 },
 "nbformat": 4,
 "nbformat_minor": 5
}

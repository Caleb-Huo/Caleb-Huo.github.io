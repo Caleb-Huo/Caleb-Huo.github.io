{
 "cells": [
  {
   "cell_type": "markdown",
   "id": "4b533e17-2c62-4cd7-80d2-dba8d4054bab",
   "metadata": {
    "tags": []
   },
   "source": [
    "<h1><center><b>Introduction to Biostatistical Computing PHC 6937</b></center></h1>\n",
    "<h2><center><b>Basics of Python programming</b></center></h2>\n",
    "<h3><center>Zhiguang Huo (Caleb)</center></h3>\n",
    "<h3><center>Monday Oct 17th, 2022</center></h3>\n"
   ]
  },
  {
   "cell_type": "markdown",
   "id": "0ba7679e-a644-4e87-b046-752b45339d8e",
   "metadata": {},
   "source": [
    "## Outline\n",
    "- Three ways to run python code\n",
    "- Basic python data type\n",
    "- Basic python operators"
   ]
  },
  {
   "cell_type": "markdown",
   "id": "edc7f904-607a-451b-a90e-03a1527cc238",
   "metadata": {},
   "source": [
    "### Three ways to run python code\n",
    "- Jupyter\n",
    "- Python intepreter (open python console)\n",
    "- Python script (save .py file and run python XX.py)\n"
   ]
  },
  {
   "cell_type": "code",
   "execution_count": 3,
   "id": "ee24c3b6-ed43-43a4-b1c9-405d2dbfca97",
   "metadata": {},
   "outputs": [
    {
     "name": "stdout",
     "output_type": "stream",
     "text": [
      "Hello word\n"
     ]
    }
   ],
   "source": [
    "print(\"Hello word\")"
   ]
  },
  {
   "cell_type": "code",
   "execution_count": null,
   "id": "abb64e00-d844-4bb5-ae57-5616ce7c6ebf",
   "metadata": {},
   "outputs": [],
   "source": []
  }
 ],
 "metadata": {
  "kernelspec": {
   "display_name": "Python 3 (ipykernel)",
   "language": "python",
   "name": "python3"
  },
  "language_info": {
   "codemirror_mode": {
    "name": "ipython",
    "version": 3
   },
   "file_extension": ".py",
   "mimetype": "text/x-python",
   "name": "python",
   "nbconvert_exporter": "python",
   "pygments_lexer": "ipython3",
   "version": "3.9.7"
  }
 },
 "nbformat": 4,
 "nbformat_minor": 5
}
